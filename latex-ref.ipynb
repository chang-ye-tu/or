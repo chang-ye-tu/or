{
 "cells": [
  {
   "cell_type": "markdown",
   "metadata": {},
   "source": [
    "# Typing Math in Jupyter Notebook: Rudiments of LaTeX\n",
    "\n",
    "- Source: [Mathematics StackExchange](https://math.meta.stackexchange.com/questions/5020/mathjax-basic-tutorial-and-quick-reference)\n",
    "\n",
    "## Fundamentals \n",
    "\n",
    "- Escape Characters: `& % $ # _ { } ~ ^ \\`  \n",
    "  - Raw character for `& % $ # _ { }`: Typeset by prepending a backslash `\\`\n",
    "  - Raw character for `~ ^ \\`: use `\\textasciitilde`, `\\textasciicircum`, and `\\textbackslash` respectively\n",
    "\n",
    "- For inline formulas, enclose the formula in `$`\n",
    "  - Get $2\\times 3\\pm 5=6\\pm 5$ by `$2\\times 3\\pm 5=6\\pm 5$`\n",
    "- For displayed formulas, use `$$`\n",
    "  - Get $$\\int_{-\\infty}^\\infty e^{-x^2}\\,\\text{d}x=\\sqrt{\\pi}$$ by `$$\\int_{-\\infty}^\\infty e^{-x^2}\\,\\text{d}x=\\sqrt{\\pi}$$`\n",
    "\n",
    "- For superscripts and subscripts, use `^` and `_`\n",
    "  - Get $x_i^2$ by `x_i^2`, $\\log_2 x$ by `\\log_2 x`\n",
    "\n",
    "- Groups: superscripts, subscripts, and other operations apply only to the next \"group\" \n",
    "  - A \"group\" is either a single symbol, or any formula surrounded by curly braces `{ }` \n",
    "  - `10^10` becomes $10^10$; should be `10^{10}` \n",
    "  - Use curly braces to delimit a formula to which a superscript or subscript applies: `x^5^6` is an error; `{x^y}^z` becomes ${x^y}^z$, `x^{y^z}` becomes $x^{y^z}$ \n",
    "  - Observe the differences between `x_i^2`, `x_{i^2}` and `{x_i}^2`: $x_i^2$, $x_{i^2}$, ${x_i}^2$\n",
    "\n",
    "- Parentheses \n",
    "  - Make parentheses and brackets using `()[]`; for curly braces `{}` use `\\{` and `\\}`\n",
    "  - These do not scale with the formula in between, so if one write `(\\frac{\\sqrt x}{y^3})` the parentheses will be too small: $(\\frac{\\sqrt x}{y^3})$\n",
    "  - Using `\\left(\\right)` instead of plain `()` will make the sizes adjust automatically to the formula they enclose: $\\left(\\frac{\\sqrt x}{y^3}\\right)$\n",
    "  - `\\left` and `\\right` apply to all the following sorts of parentheses: `(` and `)`, `[` and `]`, `\\{` and `\\}`, `|`, `\\vert`, `\\Vert`, `\\langle` and `\\rangle`, `\\lceil` and `\\rceil`, and `\\lfloor` and `\\rfloor`  \n",
    "  - There are also invisible parentheses, denoted by `.` \n",
    "    - Get $\\left.\\frac12\\right\\rbrace$ by `\\left.\\frac12\\right\\rbrace` \n",
    "  - If manual size adjustments are required, observe that `\\Biggl(\\biggl(\\Bigl(\\bigl((x)\\bigr)\\Bigr)\\biggr)\\Biggr)`: $\\Biggl(\\biggl(\\Bigl(\\bigl((x)\\bigr)\\Bigr)\\biggr)\\Biggr)$\n",
    "\n",
    "- Sums and integrals: `\\sum` and `\\int`; the subscript is the lower limit and the superscript is the upper limit\n",
    "  - Don't forget `{ }` if the limits are more than a single symbol, e.g. $\\sum_{i=0}^\\infty i^2$ by `\\sum_{i=0}^\\infty i^2`\n",
    "\n",
    "- Fractions: `\\frac{}{}`, e.g. `\\frac{1}{2}`, `\\frac{x+y}{2z-5}`, `\\frac{\\partial^2 u}{\\partial x^2}` become $\\frac{1}{2}$, $\\frac{x+y}{2z-5}$, $\\frac{\\partial^2 u}{\\partial x^2}$.\n",
    "\n",
    "- Fonts: Use\n",
    "  - `\\mathbb` or `\\Bbb` for \"blackboard bold\": $\\mathbb{ABCDEFGHIJKLMNOPQRSTUVWXYZ}$.\n",
    "  - `\\mathbf` for boldface: $\\mathbf{ABCDEFGHIJKLMNOPQRSTUVWXYZ\\;abcdefghijklmnopqrstuvwxyz}$.\n",
    "  - `\\mathit` for italics: $\\mathit{ABCDEFGHIJKLMNOPQRSTUVWXYZ\\;abcdefghijklmnopqrstuvwxyz}$.\n",
    "  - `\\pmb` for boldfaced italics: $\\pmb{ABCDEFGHIJKLMNOPQRSTUVWXYZ\\;abcdefghijklmnopqrstuvwxyz}$.\n",
    "  - `\\mathtt` for \"typewriter\" font$: \\mathtt{ABCDEFGHIJKLMNOPQRSTUVWXYZ\\;abcdefghijklmnopqrstuvwxyz}$. \n",
    "  - `\\mathrm` for roman font: $\\mathrm{ABCDEFGHIJKLMNOPQRSTUVWXYZ\\;abcdefghijklmnopqrstuvwxyz}$. \n",
    "  - `\\mathsf` for sans-serif font: $\\mathsf{ABCDEFGHIJKLMNOPQRSTUVWXYZ\\;abcdefghijklmnopqrstuvwxyz}$.\n",
    "  - `\\mathcal` for \"calligraphic\" letters: $\\mathcal{ABCDEFGHIJKLMNOPQRSTUVWXYZ}$.\n",
    "  - `\\mathscr` for script letters: $\\mathscr{ABCDEFGHIJKLMNOPQRSTUVWXYZ}$. \n",
    "  - `\\mathfrak` for \"Fraktur\" (old German style) letters: $\\mathfrak{ABCDEFGHIJKLMNOPQRSTUVWXYZ\\;abcdefghijklmnopqrstuvwxyz}$.  \n",
    "- Radical signs / roots: Use `\\sqrt`, which adjusts to the size of its argument\n",
    "  - For complicated expressions, consider using `{...}^{1/2}` instead.\n",
    "\n",
    "- Special functions such as \"lim\", \"sin\", \"max\", \"ln\", and so on are normally set in roman font instead of italic font\n",
    "  - Use `\\lim`, `\\sin`, etc. to make $\\lim$, $\\sin$, not $lim$, $sin$ !\n",
    "  - Use subscripts to attach a notation to `\\lim`: e.g. $\\lim_{x\\to 0}$ by `\\lim_{x\\to 0}`\n",
    "\n",
    "- Putting extra literal spaces into formulas will not change the amount of space LaTeX puts in: a␣b and a␣␣␣␣b are both ab\n",
    "  - To add more space, use `\\,` for a thin space, `\\;` for a wider space, `\\quad` and `\\qquad` for larger spaces\n",
    "  \n",
    "- To set plain text, use `\\text{}`\n",
    "  - You can nest `$` inside of `\\text{}`, for example to access inline formula or spaces.\n",
    "\n",
    "- Accents and diacritical marks\n",
    "  - Use `\\hat` for a single symbol, `\\widehat` for a larger formula\n",
    "  - There are `\\bar`, `\\overline`, `\\vec`, `\\overrightarrow` and `\\overleftrightarrow`\n",
    "  - For dots, use `\\dot` and `\\ddot`.\n",
    "\n",
    "- Special characters can be escaped using the `\\` character: `\\$` for `$`, `\\{` for `{`, `\\}` for `}`, `\\_` for `_`, `\\#` for `#`, `\\&` for `&`. If you want `\\` itself, you should use `\\backslash` (symbol) or `\\setminus` (binary operation) for `∖`, because `\\\\` is for a new line.\n",
    "\n",
    "- Array-Like Environment\n",
    "  - Using `&` as seperator between row elements\n",
    "  - Proceed to next row by issuing `\\\\` \n",
    "  - Get $$f(n) = \\begin{cases}\\frac{n}{2},  & \\text{if $n$ is even} \\\\[2ex] 3n+1, & \\text{if $n$ is odd}\\end{cases}$$ by"
   ]
  },
  {
   "cell_type": "markdown",
   "metadata": {},
   "source": [
    "$$f(n) = \\begin{cases}\n",
    "  \\frac{n}{2}, & \\text{if $n$ is even} \\\\[2ex]\n",
    "  3n+1,        & \\text{if $n$ is odd}\n",
    "\\end{cases}$$"
   ]
  },
  {
   "cell_type": "markdown",
   "metadata": {},
   "source": [
    "  - Get $$\\begin{pmatrix}1 & a_1 & a_1^2 & \\cdots & a_1^n \\\\ 1 & a_2 & a_2^2 & \\cdots & a_2^n \\\\ \\vdots & \\vdots & \\vdots & \\ddots & \\vdots \\\\ 1 & a_m & a_m^2 & \\cdots & a_m^n\\end{pmatrix}$$ by"
   ]
  },
  {
   "cell_type": "markdown",
   "metadata": {},
   "source": [
    "$$\\begin{pmatrix}\n",
    "    1      & a_1    & a_1^2  & \\cdots & a_1^n  \\\\ \n",
    "    1      & a_2    & a_2^2  & \\cdots & a_2^n  \\\\ \n",
    "    \\vdots & \\vdots & \\vdots & \\ddots & \\vdots \\\\ \n",
    "    1      & a_m    & a_m^2  & \\cdots & a_m^n\n",
    "\\end{pmatrix}$$"
   ]
  },
  {
   "cell_type": "markdown",
   "metadata": {},
   "source": [
    "## Selected LaTeX Symbols\n",
    "\n",
    "- [The Comprehensive LaTeX Symbol List](https://tug.ctan.org/info/symbols/comprehensive/symbols-a4.pdf)\n",
    "\n",
    "| symbol                    | LaTeX                     | symbol                    | LaTeX                     |\n",
    "|:--------------------------|:--------------------------|:--------------------------|:--------------------------|\n",
    "|$\\alpha$                   | `\\alpha`                  | $\\beta$                   | `\\beta`                   |\n",
    "|$\\Gamma$, $\\gamma$         | `\\Gamma`, `\\gamma`        | $\\Delta$, $\\delta$        | `\\Delta`, `\\delta`        |\n",
    "|$\\epsilon$, $\\varepsilon$  | `\\epsilon`, `\\varepsilon` | $\\zeta$                   | `\\zeta`                   |\n",
    "|$\\eta$                     | `\\eta`                    | $\\Theta$, $\\theta$, $\\vartheta$  | `\\Theta`, `\\theta`, `\\vartheta` |\n",
    "|$\\iota$                    | `\\iota`                   | $\\kappa$                  | `\\kappa`                  |\n",
    "|$\\Lambda$, $\\lambda$       | `\\Lambda`, `\\lambda`      | $\\mu$                     | `\\mu`                     |\n",
    "|$\\nu$                      | `\\nu`                     | $\\Xi$, $\\xi$              | `\\Xi`, `\\xi`              |\n",
    "|$\\Pi$, $\\pi$               | `\\Pi`, `\\pi`              | $\\rho$, $\\varrho$         | `\\rho`, `\\varrho`         |\n",
    "|$\\Sigma$, $\\sigma$         | `\\Sigma`, `\\sigma`        | $\\tau$                    | `\\tau`                    |\n",
    "|$\\Upsilon$, $\\upsilon$     | `\\Upsilon`, `\\upsilon`    | $\\Phi$, $\\phi$, $\\varphi$ | `\\Phi`, `\\phi`, `\\varphi` |\n",
    "|$\\chi$                     | `\\chi`                    | $\\Psi$, $\\psi$            | `\\Psi`, `\\psi`            |\n",
    "|$\\Omega$, $\\omega$         | `\\Omega`, `\\omega`        | $\\aleph$                  | `\\aleph`                  |\n",
    "|$\\lt$                      | `\\lt`                     | $\\le$                     | `\\le`                     |\n",
    "|$\\leq$                     | `\\leq`                    | $\\leqslant$               | `\\leqslant`               |\n",
    "|$\\gt$                      | `\\gt`                     | $\\ge$                     | `\\ge`                     |\n",
    "|$\\geq$                     | `\\geq`                    | $\\geqslant$               | `\\geqslant`               |\n",
    "|$\\neq$                     | `\\neq`                    | $\\cdot$                   | `\\cdot`                   |\n",
    "|$\\times$                   | `\\times`                  | $\\div$                    | `\\div`                    |\n",
    "|$\\pm$                      | `\\pm`                     | $\\mp$                     | `\\mp`                     |\n",
    "|$\\cup$                     | `\\cup`                    | $\\cap$                    | `\\cap`                    |\n",
    "|$\\setminus$                | `\\setminus`               | $\\subset$                 | `\\subset`                 |\n",
    "|$\\subseteq$                | `\\subseteq`               | $\\subsetneq$              | `\\subsetneq`              |\n",
    "|$\\in$                      | `\\in`                     | $\\notin$                  | `\\notin`                  |\n",
    "|$\\emptyset$                | `\\emptyset`               | $\\varnothing$             | `\\varnothing`             |\n",
    "|${n+1\\choose 2k}$ | `{n+1\\choose 2k}`,`\\binom{n+1}{2k}`| $\\ell$                    | `\\ell`                    |\n",
    "|$\\to$                      | `\\to`                     | $\\gets$                   | `\\gets`                   |\n",
    "|$\\rightarrow$              | `\\rightarrow`             | $\\leftarrow$              | `\\leftarrow`              |\n",
    "|$\\Rightarrow$              | `\\Rightarrow`             | $\\Leftarrow$              | `\\Leftarrow`              |\n",
    "|$\\mapsto$                  | `\\mapsto`                 | $\\iff$                    | `\\iff`                    |\n",
    "|$\\cup$                     | `\\cup`                    | $\\cap$                    | `\\cap`                    |\n",
    "|$\\land$                    | `\\land`,`\\wedge`          | $\\lor$                    | `\\lor`, `\\vee`            |\n",
    "|$\\lnot$                    | `\\lnot`                   | $\\forall$                 | `\\forall`                 |\n",
    "|$\\exists$                  | `\\exists`                 | $\\top$                    | `\\top`                    |\n",
    "|$\\bot$                     | `\\bot`                    | $\\star$                   | `\\star`                   |\n",
    "|$\\ast$                     | `\\ast`                    | $\\oplus$                  | `\\oplus`                  |\n",
    "|$\\circ$                    | `\\circ`                   | $\\bullet$                 | `\\bullet`                 |\n",
    "|$\\approx$                  | `\\approx`                 | $\\sim$                    | `\\sim`                    |\n",
    "|$\\simeq$                   | `\\simeq`                  | $\\cong$                   | `\\cong`                   |\n",
    "|$\\equiv$                   | `\\equiv`                  | $\\prec$                   | `\\prec`                   |\n",
    "|$\\succ$                    | `\\succ`                   | $\\preceq$                 | `\\preceq`                 |\n",
    "|$\\succeq$                  | `\\succeq`                 | $\\preccurlyeq$            | `\\preccurlyeq`            |\n",
    "|$\\succcurlyeq$             | `\\succcurlyeq`            | $\\Subset$                 | `\\Subset`                 |\n",
    "|$\\partial$                 | `\\partial`                | $\\nabla$                  | `\\nabla`                  |\n",
    "|$\\lhd$                     | `\\lhd`                    | $\\infty$                  | `\\infty`                  |\n",
    "|$\\Im$                      | `\\Im`                     | $\\Re$                     | `\\Re`                     |\n",
    "|$|x|$                      | `|x|`, `\\vert x\\vert`     | $\\|x\\|$                   | `\\|x\\|`, `\\Vert x\\Vert`   |\n",
    "|$\\lfloor x\\rfloor$         | `\\lfloor x\\rfloor`        | $\\lceil x\\rceil$          | `\\lceil x\\rceil`          |\n",
    "|$\\langle x\\rangle$         | `\\langle x\\rangle`        | $\\lvert x\\rvert$          | `\\lvert x\\rvert`          |\n",
    "|$\\{x\\mid x^2\\in\\mathbb{Z}\\}$|`\\{x\\mid x^2\\in\\mathbb{Z}\\}` | $\\iint$, $\\iiint$      | `\\iint`, `\\iiint`         |\n",
    "|$a_1, a_2, \\ldots, a_n$    | `a_1, a_2, \\ldots, a_n`   | $a_1 + a_2 + \\cdots + a_n$| `a_1 + a_2 + \\cdots + a_n`|\n",
    "|$a\\equiv b\\pmod n$         | `a\\equiv b\\pmod n`        | $a\\bmod 17$               | `a\\bmod 17`               |\n",
    "\n"
   ]
  },
  {
   "cell_type": "markdown",
   "metadata": {},
   "source": [
    "# Exercises"
   ]
  },
  {
   "cell_type": "markdown",
   "metadata": {},
   "source": [
    "Convex Programming Problem I:\n",
    "\\begin{align*}\n",
    "  &\\text{minimize}\\quad\\|P(x) + q\\|_2^2 \\\\\n",
    "  &\\text{subject to}\\quad u^\\top u\\leqslant 1\n",
    "\\end{align*}"
   ]
  },
  {
   "cell_type": "markdown",
   "metadata": {},
   "source": [
    "Convex programming problem II:\n",
    "\\begin{align*}\n",
    "  &\\text{minimize}\\quad t + u \\\\\n",
    "  &\\text{subject to}\\quad\\begin{pmatrix} {\\sf I} & P(x) & q(x) \\\\ P(x)^\\top & \\lambda{\\sf I} & 0 \\\\ q(x)^\\top & 0 & t\\end{pmatrix}\\succcurlyeq 0\n",
    "\\end{align*}"
   ]
  },
  {
   "cell_type": "markdown",
   "metadata": {},
   "source": [
    "Convex programming problem III:\n",
    "\\begin{align*}\n",
    "  \\text{minimize}\\quad\\sup_{\\|u\\|_2\\leqslant 1}\\big\\|\\big(\\overline{A} + u_1 A_1 + u_2 A_2\\big)x - b\\big\\|_2\n",
    "\\end{align*}"
   ]
  },
  {
   "cell_type": "markdown",
   "metadata": {},
   "source": [
    "Formal definition of limit: \n",
    "$$\\forall\\,\\varepsilon > 0\\;\\exists\\,\\delta > 0\\;(0 < |x - a| < \\delta \\;\\Longrightarrow\\; |f(x) - L| < \\varepsilon)$$\n"
   ]
  },
  {
   "cell_type": "markdown",
   "metadata": {},
   "source": [
    "A problem in calculus: Find $a$, $b$ so that\n",
    "$$\n",
    "    f(x) = \\begin{cases} a x^3 & \\text{ if } x\\leqslant 1 \\\\ x^2 + b & \\text{ if } x > 1\\end{cases}\n",
    "$$   \n",
    "is differentiable on $\\mathbb{R}$.\n"
   ]
  },
  {
   "cell_type": "markdown",
   "metadata": {},
   "source": [
    "The HJB equation of Merton's Problem \n",
    "$$\n",
    "  \\frac{\\delta^2\\beta^{\\frac{\\gamma}{\\delta}}}{\\gamma}e^{-\\frac{\\rho}{\\delta}t}u_w^{-\\frac{\\gamma}{\\delta}} + u_{t} +\\left(\\frac{\\delta\\nu}{\\beta} + rw\\right)u_w - \\delta(\\mu-r)\\frac{u_w^2}{u_{w w}} = 0;\\quad u(T, w)=0. \n",
    "$$"
   ]
  },
  {
   "cell_type": "markdown",
   "metadata": {},
   "source": [
    "The Solution of Merton's Problem\n",
    "$$\n",
    "  u(t, w) = \\frac{\\delta^{2\\delta}\\beta^\\gamma}{\\gamma}e^{-\\rho t}\\left(\\frac{1-e^{\\frac{(\\rho-\\gamma\\mu)(t-T)}{\\delta}}}{\\rho-\\gamma\\mu}\\right)^\\delta\\left(w+\\frac{\\delta\\nu}{\\beta r}\\left(1-e^{r(t-T)}\\right)\\right)^\\gamma\n",
    "$$"
   ]
  },
  {
   "cell_type": "markdown",
   "metadata": {},
   "source": [
    "A Lie Algebra Generator\n",
    "$$\n",
    "A_1 = \\begin{pmatrix} \n",
    "  1 & 0 & 0 & 0 \\\\ \n",
    "  0 & 1 & 0 & 0 \\\\ \n",
    "  -\\frac{\\varepsilon_1(\\rho-r\\gamma)}{\\gamma} & 0 & 1 & 0 \\\\ \n",
    "  -\\frac{\\varepsilon_1}{\\gamma} & 0 & 0 & 1  \n",
    "\\end{pmatrix}\n",
    "$$"
   ]
  }
 ],
 "metadata": {
  "anaconda-cloud": "",
  "kernelspec": {
   "display_name": "Python 3 (ipykernel)",
   "language": "python",
   "name": "python3"
  },
  "language_info": {
   "codemirror_mode": {
    "name": "ipython",
    "version": 3
   },
   "file_extension": ".py",
   "mimetype": "text/x-python",
   "name": "python",
   "nbconvert_exporter": "python",
   "pygments_lexer": "ipython3",
   "version": "3.8.10"
  }
 },
 "nbformat": 4,
 "nbformat_minor": 1
}
