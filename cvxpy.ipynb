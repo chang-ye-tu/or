{
 "cells": [
  {
   "cell_type": "markdown",
   "id": "bc6e5e7d",
   "metadata": {},
   "source": [
    "# Introduction to `CVXPY`"
   ]
  },
  {
   "cell_type": "markdown",
   "id": "996216f2",
   "metadata": {},
   "source": [
    "## Detour: Symbolic Convexity Checking Using `SymPy`\n",
    "$\\newcommand{\\ds}{\\displaystyle}$\n",
    "For differentiable function $f$, check if its Hessian is positive-semidefinite: $\\;\\ds\\nabla^2 f\\succcurlyeq 0$\n",
    "- $\\ds f(x, y) = x \\log\\frac{x}{y},\\quad x > 0,\\quad y > 0$"
   ]
  },
  {
   "cell_type": "code",
   "execution_count": null,
   "id": "37d13652",
   "metadata": {},
   "outputs": [],
   "source": [
    "from sympy.abc import w, x, y, z, a  \n",
    "from sympy import ordered, hessian, log, exp, Symbol\n",
    "from sympy import init_printing\n",
    "init_printing(use_latex='mathjax')\n",
    "\n",
    "expr = x * log(x / y)\n",
    "v = list(ordered(expr.free_symbols))\n",
    "display(hessian(expr, v))\n",
    "hessian(expr, v).eigenvals()"
   ]
  },
  {
   "cell_type": "markdown",
   "id": "430cd244-42ba-4a3d-ad35-453558fe8a83",
   "metadata": {},
   "source": [
    "### Your Turn: Check the Convexity of the Following Functions\n",
    "- $\\ds f(x) = x\\log x$, $\\quad x > 0$"
   ]
  },
  {
   "cell_type": "code",
   "execution_count": null,
   "id": "b2f1be51-746c-44ef-b6e8-363dd909a877",
   "metadata": {},
   "outputs": [],
   "source": [
    "expr = x * log(x)\n",
    "v = list(ordered(expr.free_symbols))\n",
    "display(hessian(expr, v))\n",
    "hessian(expr, v).eigenvals()"
   ]
  },
  {
   "cell_type": "markdown",
   "id": "139f5168-3188-4781-b413-61166751e1bf",
   "metadata": {},
   "source": [
    "- $\\ds f(x, y) = \\frac{x^2}{y}$, $\\quad y > 0$"
   ]
  },
  {
   "cell_type": "code",
   "execution_count": null,
   "id": "6c85ed6d-3125-4c86-a51a-815870abce7a",
   "metadata": {},
   "outputs": [],
   "source": [
    "expr = x**2 / y\n",
    "v = list(ordered(expr.free_symbols))\n",
    "display(hessian(expr, v))\n",
    "hessian(expr, v).eigenvals()"
   ]
  },
  {
   "cell_type": "markdown",
   "id": "f0ed3ac5-ad23-4953-863b-cf71a751f67c",
   "metadata": {},
   "source": [
    "- $\\ds f(x, y, z) = \\log\\,(e^{x} + e^{y} + e^{z})$"
   ]
  },
  {
   "cell_type": "code",
   "execution_count": null,
   "id": "d8dfc134-4d51-4792-a1ac-b7977c6e05ca",
   "metadata": {},
   "outputs": [],
   "source": [
    "expr = log(exp(x) + exp(y) + exp(z))\n",
    "v = list(ordered(expr.free_symbols))\n",
    "H = hessian(expr, v)\n",
    "display(H)\n",
    "display(H.eigenvals())\n",
    "display(H.det())\n",
    "#H.minor_submatrix(1, 2).det()"
   ]
  },
  {
   "cell_type": "markdown",
   "id": "82db849d-07bf-48df-ade7-0268a396eb46",
   "metadata": {},
   "source": [
    "- $f(x, y) = xy\\;$ on $\\;\\mathbb{R}^2_{++}$"
   ]
  },
  {
   "cell_type": "code",
   "execution_count": null,
   "id": "bd8cfa7b-3cdf-4806-aebe-df57086f5394",
   "metadata": {},
   "outputs": [],
   "source": [
    "expr = x * y\n",
    "v = list(ordered(expr.free_symbols))\n",
    "display(hessian(expr, v))\n",
    "hessian(expr, v).eigenvals()"
   ]
  },
  {
   "cell_type": "markdown",
   "id": "ff7df1fd-a138-4f05-82d8-ada43f2b2ef5",
   "metadata": {},
   "source": [
    "- $\\ds f(x, y) = \\frac{1}{xy}\\;$ on $\\;\\mathbb{R}^2_{++}$"
   ]
  },
  {
   "cell_type": "code",
   "execution_count": null,
   "id": "e3f2909d-52b9-45c4-83ff-6fd077270f89",
   "metadata": {},
   "outputs": [],
   "source": [
    "expr = 1 / (x * y)\n",
    "v = list(ordered(expr.free_symbols))\n",
    "display(hessian(expr, v))\n",
    "hessian(expr, v).eigenvals()"
   ]
  },
  {
   "cell_type": "markdown",
   "id": "e4d7fcdf-1ec7-4144-9bc2-c5ec85f29a50",
   "metadata": {},
   "source": [
    "- $\\ds f(x, y) = \\frac{x}{y}\\;$ on $\\;\\mathbb{R}^2_{++}$"
   ]
  },
  {
   "cell_type": "code",
   "execution_count": null,
   "id": "897a9174-76c4-48cc-b74f-ef21153d2899",
   "metadata": {},
   "outputs": [],
   "source": [
    "expr = x / y\n",
    "v = list(ordered(expr.free_symbols))\n",
    "display(hessian(expr, v))\n",
    "hessian(expr, v).eigenvals()"
   ]
  },
  {
   "cell_type": "markdown",
   "id": "e699d651-8494-42d3-b330-ad94aa6b6f04",
   "metadata": {},
   "source": [
    "- $\\ds f(x, y) = x^\\alpha y^{1 - \\alpha}\\;$ on $\\;\\ds\\mathbb{R}^2_{++}$ where $\\ds 0\\leqslant\\alpha\\leqslant 1$."
   ]
  },
  {
   "cell_type": "code",
   "execution_count": null,
   "id": "393614f2-3e6e-4dca-813c-876457332ca6",
   "metadata": {},
   "outputs": [],
   "source": [
    "from sympy.physics.units.quantities import Quantity\n",
    "a = Quantity('a')\n",
    "expr = x**a * y**(1 - a)\n",
    "v = list(ordered(expr.free_symbols))\n",
    "display(hessian(expr, v))\n",
    "hessian(expr, v).eigenvals()"
   ]
  },
  {
   "cell_type": "markdown",
   "id": "4ec335c0",
   "metadata": {
    "jp-MarkdownHeadingCollapsed": true
   },
   "source": [
    "## First Encounter\n",
    "\n",
    "`CVXPY` [official site](https://www.cvxpy.org/index.html) "
   ]
  },
  {
   "cell_type": "code",
   "execution_count": null,
   "id": "153af89e",
   "metadata": {},
   "outputs": [],
   "source": [
    "import cvxpy as cp\n",
    "\n",
    "# Create two scalar optimization variables.\n",
    "x = cp.Variable()\n",
    "y = cp.Variable()\n",
    "\n",
    "# Create two constraints.\n",
    "constraints = [x + y == 1,\n",
    "               x - y >= 1]\n",
    "\n",
    "# Form objective.\n",
    "obj = cp.Minimize((x - y)**2)\n",
    "\n",
    "# Form and solve problem.\n",
    "prob = cp.Problem(obj, constraints)\n",
    "prob.solve()  \n",
    "# Return optimal values\n",
    "print(\"status:\", prob.status, \"\\noptimal value:\", prob.value, \"\\noptimal variables:\", x.value, y.value)"
   ]
  },
  {
   "cell_type": "markdown",
   "id": "8e84e756-6745-425e-94ab-40914e6bf8f4",
   "metadata": {},
   "source": [
    "### In Practice"
   ]
  },
  {
   "cell_type": "code",
   "execution_count": null,
   "id": "00036d6f-45b6-466b-b72a-d1a97d7a7021",
   "metadata": {},
   "outputs": [],
   "source": [
    "import cvxpy as cp\n",
    "\n",
    "# Create the optimization variable x of length 2.\n",
    "x = cp.Variable(2)\n",
    "prob = cp.Problem(cp.Minimize((x[0] - x[1])**2), [x[0] + x[1] == 1, x[0] - x[1] >= 1])\n",
    "prob.solve()  \n",
    "# Return optimal values\n",
    "print(\"status:\", prob.status, \"\\noptimal value:\", prob.value, \"\\noptimal variables:\", x.value)"
   ]
  },
  {
   "cell_type": "markdown",
   "id": "84abc1be-d6cb-40f8-9f44-e4ef80215edd",
   "metadata": {},
   "source": [
    "## Showcases"
   ]
  },
  {
   "cell_type": "markdown",
   "id": "852a4e03",
   "metadata": {},
   "source": [
    "### Linear Programming (LP)\n",
    "\n",
    "Standard form\n",
    "$$\\begin{array}{ll}\n",
    "    \\mbox{minimize}   & c^\\top x \\\\\n",
    "    \\mbox{subject to} & Ax \\preccurlyeq b.\n",
    "    \\end{array}$$\n",
    "where $A \\in \\mathbb{R}^{m \\times n}$, $b \\in \\mathbb{R}^m$, and $c \\in \\mathbb{R}^n$; $x \\in \\mathbb{R}^{n}$ is the optimization variable."
   ]
  },
  {
   "cell_type": "code",
   "execution_count": null,
   "id": "349b675c",
   "metadata": {},
   "outputs": [],
   "source": [
    "# Import packages.\n",
    "import cvxpy as cp\n",
    "import numpy as np\n",
    "\n",
    "# Generate a random non-trivial linear program.\n",
    "m = 15\n",
    "n = 10\n",
    "np.random.seed(1)\n",
    "s0 = np.random.randn(m)\n",
    "lamb0 = np.maximum(-s0, 0)\n",
    "s0 = np.maximum(s0, 0)\n",
    "x0 = np.random.randn(n)\n",
    "A = np.random.randn(m, n)\n",
    "b = A@x0 + s0\n",
    "c = -A.T@lamb0\n",
    "\n",
    "# Define and solve the CVXPY problem.\n",
    "x = cp.Variable(n)\n",
    "prob = cp.Problem(cp.Minimize(c.T@x), [A@x <= b])\n",
    "prob.solve()\n",
    "\n",
    "# Print result.\n",
    "print(\"\\nThe optimal value is\", prob.value, \"\\nA solution x is\", x.value)"
   ]
  },
  {
   "cell_type": "markdown",
   "id": "1cfb7f6a",
   "metadata": {},
   "source": [
    "### Your Turn: LP Formulations \n",
    "\\begin{align*}\n",
    "  \\text{maximize}\\quad& 5 x_1 + 4 x_2 + 3 x_3 \\\\\n",
    "  \\text{subject to}\\quad& 2 x_1 + 3 x_2 + x_3 \\leqslant 5 \\\\\n",
    "  \\qquad\\qquad\\quad& 4 x_1 + x_2 + 2 x_3 \\leqslant 11 \\\\\n",
    "  \\qquad\\qquad\\quad& 3 x_1 + 4 x_2 + 2 x_3 \\leqslant 8 \\\\\n",
    "  \\qquad\\qquad\\quad& x_1\\geqslant 0,\\quad x_2\\geqslant 0,\\quad x_3\\geqslant 0\n",
    "\\end{align*}\n",
    "- The maximum: $13$. The optimizer: $(2,\\,0,\\,1)$. Using two ways (Index & Matrix) to do this.\n",
    "- You may need `x = cp.Variable(3, nonneg=True)` and `np.round()`.\n"
   ]
  },
  {
   "cell_type": "code",
   "execution_count": null,
   "id": "2b5fad9a",
   "metadata": {},
   "outputs": [],
   "source": [
    "import numpy as np\n",
    "import cvxpy as cp\n",
    "\n",
    "x = cp.Variable(3, nonneg=True)\n",
    "\n",
    "A = np.array([[2, 3, 1], [4, 1, 2], [3, 4, 2]])\n",
    "c = np.array([5, 4, 3])\n",
    "b = np.array([5, 11, 8])\n",
    "\n",
    "# TODO: Index & Matrix\n",
    "prob = cp.Problem(cp.Maximize(c@x), [A@x <= b])\n",
    "#\n",
    "\n",
    "prob.solve()\n",
    "print(np.round(prob.value))\n",
    "print(np.round(x.value))"
   ]
  },
  {
   "cell_type": "markdown",
   "id": "7c0bb330-bcac-44d4-8441-2bc649a708c9",
   "metadata": {},
   "source": [
    "### 0-1 Knapsack Problem\n",
    "\n",
    "- A set of $n$ items number from $1$ up to $n$, each with a weight $w_i$ and a value $v_i$. The maximum weight capacity of the knapsack is $W$ and the number $x_i$ of each kind of item inside is zero or one.\n",
    "- The mathematical formulation of this 0-1 knapsack problem is:\n",
    "  \\begin{align*}\n",
    "    \\text{maximize}\\quad&\\sum_i v_i x_i\\\\\n",
    "    \\text{subject to}\\quad&\\sum_i w_i x_i\\leqslant W\\;\\text{ and }\\;x_i\\in\\{0, 1\\},\\;i=1,\\,2,\\,\\ldots,\\,n\n",
    "  \\end{align*}\n",
    "- An example (Martello-Toth Example 2.1):\n",
    "  \\begin{align*}\n",
    "   w &= [2,\\,20,\\,20,\\,30,\\,40,\\,30,\\,60,\\,10] \\\\\n",
    "   v &= [15,\\,100,\\,90,\\,60,\\,40,\\,15,\\,10,\\,1] \\\\\n",
    "   W &= 102\n",
    "  \\end{align*}\n",
    "  The maximum: $280$, the optimal solution $\\ds x = [1,\\,1,\\,1,\\,1,\\,0,\\,1,\\,0,\\,0]$."
   ]
  },
  {
   "cell_type": "code",
   "execution_count": null,
   "id": "aa1c5038",
   "metadata": {},
   "outputs": [],
   "source": [
    "import cvxpy as cp\n",
    "v = [15, 100, 90, 60, 40, 15, 10, 1]\n",
    "w = [2, 20, 20, 30, 40, 30, 60, 10]\n",
    "W = 102\n",
    "x = cp.Variable(len(w), boolean=True)\n",
    "prob = cp.Problem(cp.Maximize(cp.sum(v @ x)), [cp.sum(w @ x) <= W])\n",
    "prob.solve()\n",
    "print(prob.value)\n",
    "print(x.value)"
   ]
  },
  {
   "cell_type": "markdown",
   "id": "97f4c83d-f039-4744-928a-a46f64890860",
   "metadata": {},
   "source": [
    "Here is [another example](https://towardsdatascience.com/can-chatgpt-solve-knapsack-problems-1a9a388c4caf) using dynamic programming; below is the integer programming solution."
   ]
  },
  {
   "cell_type": "code",
   "execution_count": null,
   "id": "435fc0cd-1420-41e4-ba51-51f59978d788",
   "metadata": {},
   "outputs": [],
   "source": [
    "import cvxpy as cp\n",
    "v = [\n",
    "    156, 59, 61, 129, 64, 158, 87, 77, 157, 144, 156, 127, 74, 157, 91, 124,\n",
    "    128, 95, 118, 127, 111, 67, 108, 139, 79, 95, 86, 155, 120, 112, 76, 116,\n",
    "    79, 100, 80, 120, 117, 93, 111, 67, 55, 113, 105, 119, 171, 128, 72, 133,\n",
    "    60, 86, 97, 151, 77, 75, 97, 80, 133, 67, 65, 86, 85, 157, 128, 102, 63,\n",
    "    125, 69, 53, 135, 109, 127, 109, 125, 80, 68, 120, 75, 79, 86, 100, 89, 58,\n",
    "    80, 33, 118, 51, 66, 101, 77, 146, 61, 108, 98, 64, 115, 94, 123, 124, 164,\n",
    "    140\n",
    "]\n",
    "w = [\n",
    "    15, 11, 12, 16, 15, 7, 12, 9, 9, 11, 10, 14, 12, 10, 11, 11, 14, 9, 10, 7,\n",
    "    2, 11, 12, 7, 16, 5, 10, 9, 14, 14, 10, 11, 7, 4, 8, 10, 13, 13, 8, 9, 6, 5,\n",
    "    4, 15, 8, 8, 6, 12, 5, 9, 7, 11, 8, 6, 9, 11, 10, 10, 8, 8, 7, 8, 7, 4, 10,\n",
    "    8, 5, 11, 7, 10, 12, 10, 13, 6, 11, 7, 7, 8, 9, 10, 6, 12, 11, 5, 14, 15, 13,\n",
    "    9, 6, 13, 8, 13, 10, 12, 11, 12, 10, 15, 10, 11\n",
    "]\n",
    "W = 500\n",
    "x = cp.Variable(len(w), boolean=True)\n",
    "prob = cp.Problem(cp.Maximize(cp.sum(v @ x)), [cp.sum(w @ x) <= W])\n",
    "prob.solve(solver=cp.SCIPY)\n",
    "print(prob.value)\n",
    "print([ii for ii, t in enumerate([int(i) for i in x.value]) if t == 1])"
   ]
  },
  {
   "cell_type": "markdown",
   "id": "2e056cfe",
   "metadata": {},
   "source": [
    "### Least-Squares / Linear Regression\n",
    "\n",
    "In a least-squares / linear regression problem, we have measurements $A \\in \\mathbb{R}^{m \\times n}$ and $b \\in \\mathbb{R}^m$ and seek a vector $x \\in \\mathbb{R}^{n}$ such that $Ax$ is close to $b$. Closeness is defined as the sum of the squared differences:\n",
    "$$ \\sum_{i=1}^m (a_i^\\top x - b_i)^2, $$\n",
    "also known as the $\\ell_2$-norm squared, $\\|Ax - b\\|_2^2$.\n",
    "\n",
    "We find the optimal $x$ by solving the optimization problem\n",
    "$$  \n",
    "    \\begin{array}{ll}\n",
    "    \\mbox{minimize}   & \\|Ax - b\\|_2^2.\n",
    "    \\end{array}\n",
    "$$\n",
    "Let $x^\\star$ denote the optimal $x$. The quantity $r = Ax^\\star - b$ is known as the residual. If $\\|r\\|_2 = 0$, we have a perfect fit."
   ]
  },
  {
   "cell_type": "code",
   "execution_count": null,
   "id": "84d37adf",
   "metadata": {},
   "outputs": [],
   "source": [
    "# Import packages.\n",
    "import cvxpy as cp\n",
    "import numpy as np\n",
    "\n",
    "# Generate data.\n",
    "m = 20\n",
    "n = 15\n",
    "np.random.seed(1)\n",
    "A = np.random.randn(m, n)\n",
    "b = np.random.randn(m)\n",
    "\n",
    "# Define and solve the CVXPY problem.\n",
    "x = cp.Variable(n)\n",
    "cost = cp.sum_squares(A@x - b)\n",
    "prob = cp.Problem(cp.Minimize(cost))\n",
    "prob.solve()\n",
    "\n",
    "# Print result.\n",
    "print(\"\\nThe optimal value is\", prob.value, \"\\nThe optimal x is\", x.value, \n",
    "      \"\\nThe norm of the residual is\", cp.norm(A@x - b, p=2).value)"
   ]
  },
  {
   "cell_type": "markdown",
   "id": "e02cc06a",
   "metadata": {},
   "source": [
    "### Your Turn: Ridge & LASSO  \n",
    "\n",
    "- We wish to recover a sparse vector $x \\in \\mathbb{R}^n$ from measurements $y\\in\\mathbb{R}^m$. Our measurement model tells us that \n",
    "$$y = Ax + v$$\n",
    "where $A \\in \\mathbb{R}^{m \\times n}$ is known and $v \\in \\mathbb{R}^m$ is unknown measurement error.\n",
    "- The entries of $v$ are sampled from the normal distribution with mean $0$ and standard deviation $\\sigma = 1$.\n",
    "- We first try to recover $x$ by solving the Ridge problem\n",
    "\\begin{align*}\n",
    "  \\text{mimimize}\\quad \\|Ax-y\\|^2_2 + \\gamma\\|x\\|^2_2\n",
    "\\end{align*}\n",
    "- A more effective approach is to solve the LASSO problem\n",
    "\\begin{align*}\n",
    "  \\text{mimimize}\\quad \\|Ax-y\\|^2_2 + \\gamma\\|x\\|_1\n",
    "\\end{align*}\n",
    "- Estimate $x$ from $y$ using both Ridge and LASSO regression. Your task is to provide the definitions of `ridge_loss` and `lasso_loss`.\n",
    "- We first let `gamma` equals $1$. Can you find a better `gamma`?\n",
    "- Suggestion: [`CVXPY` functions lookup.](https://www.cvxpy.org/tutorial/functions/index.html)"
   ]
  },
  {
   "cell_type": "code",
   "execution_count": null,
   "id": "08e8c2fb",
   "metadata": {},
   "outputs": [],
   "source": [
    "# Ridge regression vs. LASSO to estimate sparse x.\n",
    "import numpy as np\n",
    "import cvxpy as cp\n",
    "import scipy.linalg as la\n",
    "import scipy.sparse as sp\n",
    "\n",
    "np.random.seed(1)\n",
    "n = 4000\n",
    "m = 2000\n",
    "true_x = 100 * sp.rand(n, 1, 0.1).toarray().flatten()\n",
    "A = np.random.randn(m, n)\n",
    "v = np.random.normal(0, 1, m)\n",
    "y = A @ true_x + v\n",
    "\n",
    "x = cp.Variable(n)\n",
    "gamma = 1\n",
    "\n",
    "ridge_loss = None # FIXME\n",
    "ridge = cp.Problem(cp.Minimize(ridge_loss))\n",
    "ridge.solve()\n",
    "x_ridge = x.value\n",
    "\n",
    "lasso_loss = None # FIXME\n",
    "lasso = cp.Problem(cp.Minimize(lasso_loss))\n",
    "lasso.solve()\n",
    "x_lasso = x.value\n",
    "\n",
    "import matplotlib.pyplot as plt\n",
    "%matplotlib inline\n",
    "plt.semilogy(range(n), np.sort(np.abs(true_x - x_ridge)),  label=\"ridge errors\")\n",
    "plt.semilogy(range(n), np.sort(np.abs(true_x - x_lasso)),  label=\"lasso errors\")\n",
    "plt.legend()\n",
    "plt.show()"
   ]
  },
  {
   "cell_type": "markdown",
   "id": "25f9544c-a57d-421f-9295-8a18fe9a7695",
   "metadata": {},
   "source": [
    "### Control Problem"
   ]
  },
  {
   "cell_type": "markdown",
   "id": "fd128318-4d12-4ef1-9855-eb983964afca",
   "metadata": {},
   "source": [
    "- A system with a state $x_t\\in\\mathbb{R}^n$ that varies over the time steps $t=0,\\ldots,T$, and inputs or actions $u_t\\in\\mathbb{R}^m$ one can use at each time step to affect the state.\n",
    "- E.g. $x_t$ be the position and velocity of a rocket and $u_t$ the output of the rocket's thrusters.\n",
    "- The evolution of the state is modeled as a linear dynamical system \n",
    "$$ x_{t+1} = Ax_t + Bu_t $$\n",
    "where $A \\in \\mathbb{R}^{n\\times n}$ and $B \\in \\mathbb{R}^{n\\times m}$ are known matrices.\n",
    "- Goal: Find the optimal actions $u_0,\\ldots,u_{T-1}$ by solving\n",
    "\\begin{align*}\n",
    "  \\text{minimize}\\quad   & \\sum_{t = 0}^{T - 1}\\ell(x_t, u_t) + \\ell_T(x_T) \\\\\n",
    "  \\text{subject to}\\quad & x_{t + 1} = A\\,x_t + B\\,u_t \\\\\n",
    "  \\qquad\\qquad & (x_t, u_t)\\in\\mathcal{C},\\quad x_t\\in\\mathcal{C}\n",
    "\\end{align*}\n",
    "where $\\ell: \\mathbb{R}^n \\times \\mathbb{R}^m\\to \\mathbb{R}$ is the stage cost, $\\ell_T$ is the terminal cost,\n",
    "$\\mathcal C$ is the state/action constraints, and $\\mathcal C_T$ is the terminal constraint.\n",
    "- The optimization problem is convex if the costs and constraints are convex.\n",
    "- Solve a control problem with $n=8$ states, $m=2$ inputs, and horizon $T=50$.\n",
    "- Matrices $A$ and $B$ and the initial state $x_0$ are randomly chosen (with $A\\approx I$).\n",
    "- Use the (traditional) stage cost $\\ds\\,\\ell(x,u) = \\|x\\|_2^2 + \\|u\\|_2^2,\\,$ the input constraint $\\ds\\|u_t\\|_\\infty \\leqslant 1$, and the terminal constraint $x_T = 0$.\n",
    "- The results below show $4$-high stack of plots showing $u_1$, $u_2$, $x_1$, and $x_2$ vs $t$. Notice that $u_t$ is saturated (i.e., $\\ds\\ds\\|u_t\\|_\\infty = 1$) initially, which shows that the input constraint is meaningful."
   ]
  },
  {
   "cell_type": "code",
   "execution_count": null,
   "id": "e1910fd6-7cee-448b-8660-091f4d54048f",
   "metadata": {},
   "outputs": [],
   "source": [
    "# Generate data for control problem.\n",
    "import numpy as np\n",
    "\n",
    "np.random.seed(1)\n",
    "n = 8\n",
    "m = 2\n",
    "T = 50\n",
    "alpha = 0.2\n",
    "beta = 3\n",
    "A = np.eye(n) - alpha * np.random.rand(n, n)\n",
    "B = np.random.randn(n, m)\n",
    "x_0 = beta * np.random.randn(n)\n",
    "\n",
    "# Form and solve control problem.\n",
    "import cvxpy as cp\n",
    "\n",
    "x = cp.Variable((n, T + 1))\n",
    "u = cp.Variable((m, T))\n",
    "\n",
    "cost = 0\n",
    "constr = []\n",
    "for t in range(T):\n",
    "    cost += cp.sum_squares(x[:, t + 1]) + cp.sum_squares(u[:, t])\n",
    "    constr += [x[:, t + 1] == A @ x[:, t] + B @ u[:, t], cp.norm(u[:, t], \"inf\") <= 1]\n",
    "# sums problem objectives and concatenates constraints.\n",
    "constr += [x[:, T] == 0, x[:, 0] == x_0]\n",
    "problem = cp.Problem(cp.Minimize(cost), constr)\n",
    "problem.solve()\n",
    "\n",
    "# Plot results.\n",
    "import matplotlib.pyplot as plt\n",
    "\n",
    "%config InlineBackend.figure_format = 'svg'\n",
    "\n",
    "f = plt.figure()\n",
    "\n",
    "# Plot (u_t)_1.\n",
    "ax = f.add_subplot(411)\n",
    "plt.plot(u[0, :].value)\n",
    "plt.ylabel(r\"$(u_t)_1$\", fontsize=16)\n",
    "plt.yticks(np.linspace(-1.0, 1.0, 3))\n",
    "plt.xticks([])\n",
    "\n",
    "# Plot (u_t)_2.\n",
    "plt.subplot(4, 1, 2)\n",
    "plt.plot(u[1, :].value)\n",
    "plt.ylabel(r\"$(u_t)_2$\", fontsize=16)\n",
    "plt.yticks(np.linspace(-1, 1, 3))\n",
    "plt.xticks([])\n",
    "\n",
    "# Plot (x_t)_1.\n",
    "plt.subplot(4, 1, 3)\n",
    "x1 = x[0, :].value\n",
    "plt.plot(x1)\n",
    "plt.ylabel(r\"$(x_t)_1$\", fontsize=16)\n",
    "plt.yticks([-10, 0, 10])\n",
    "plt.ylim([-10, 10])\n",
    "plt.xticks([])\n",
    "\n",
    "# Plot (x_t)_2.\n",
    "plt.subplot(4, 1, 4)\n",
    "x2 = x[1, :].value\n",
    "plt.plot(range(51), x2)\n",
    "plt.yticks([-25, 0, 25])\n",
    "plt.ylim([-25, 25])\n",
    "plt.ylabel(r\"$(x_t)_2$\", fontsize=16)\n",
    "plt.xlabel(r\"$t$\", fontsize=16)\n",
    "plt.tight_layout()\n",
    "plt.show()"
   ]
  },
  {
   "cell_type": "markdown",
   "id": "fef3286a-98bc-40e5-ac4b-1b75426fee48",
   "metadata": {},
   "source": [
    "<hr>\n",
    "\n",
    "### Quadratic Program (QP)\n",
    "\n",
    "- An optimization problem with a quadratic objective and affine equality and inequality constraints.\n",
    "- A common standard form is the following:\n",
    "\\begin{align*}\n",
    "  \\text{minimize}\\quad & \\frac{1}{2}\\,x^\\top Px + q^\\top x\\\\\n",
    "  \\text{subject to}\\quad & G\\,x\\preccurlyeq h \\\\\n",
    "  \\qquad\\qquad & A\\,x = b\n",
    "\\end{align*}\n",
    "Here $P \\in \\mathsf{S}^{n}_+$, $q \\in \\mathbb{R}^n$, $G\\in\\mathbb{R}^{m \\times n}$, $h\\in\\mathbb{R}^m$, $A\\in\\mathbb{R}^{p \\times n}$, and $b\\in\\mathbb{R}^p$ are problem data and $x\\in\\mathbb{R}^{n}$ is the optimization variable. The inequality constraint $G\\,x\\preccurlyeq h$ is elementwise."
   ]
  },
  {
   "cell_type": "code",
   "execution_count": null,
   "id": "d8ac00e1-0ebc-41c2-bd53-43bfa04f0cee",
   "metadata": {},
   "outputs": [],
   "source": [
    "import cvxpy as cp\n",
    "import numpy as np\n",
    "\n",
    "# Generate a random non-trivial quadratic program.\n",
    "m = 15\n",
    "n = 10\n",
    "p = 5\n",
    "np.random.seed(1)\n",
    "P = np.random.randn(n, n)\n",
    "P = P.T@P\n",
    "q = np.random.randn(n)\n",
    "G = np.random.randn(m, n)\n",
    "h = G@np.random.randn(n)\n",
    "A = np.random.randn(p, n)\n",
    "b = np.random.randn(p)\n",
    "\n",
    "x = cp.Variable(n)\n",
    "prob = cp.Problem(cp.Minimize(1 / 2 * cp.quad_form(x, P) + q.T@x),\n",
    "                 [G@x <= h,\n",
    "                  A@x == b])\n",
    "prob.solve()\n",
    "\n",
    "# Print result.\n",
    "print(\"\\nThe optimal value is\", prob.value)\n",
    "print(\"A solution x is\")\n",
    "print(x.value)\n",
    "#print(\"A dual solution corresponding to the inequality constraints is\")\n",
    "#print(prob.constraints[0].dual_value)"
   ]
  },
  {
   "cell_type": "markdown",
   "id": "dad8ba27-336c-4574-8559-203905847749",
   "metadata": {},
   "source": [
    "### Your Turn: Water-Filling Problem in Information Theory\n",
    "\n",
    "- Aim: allocating power to a set of $n$ channels to maximise the total channel capacity\n",
    "- $x_i$, $i=1,2,\\ldots, n$ represents the power allocated to the $i$-th channel\n",
    "- $\\log(\\alpha_i + x_i)$ gives the capacity of the $i$-th channel; $\\alpha_i$ is given\n",
    "- Constraints: $\\ds\\sum_{i=1}^n x_i = 1$, $x_i\\geqslant 0$\n",
    "- An example\n",
    "  - Given $\\ds\\alpha = [0.8,\\,1.0,\\,1.2],\\;$ the maximum channel capacity: $\\;0.863,\\;$ power allocation: $\\;[0.533,\\,0.333,\\,0.133]$ "
   ]
  },
  {
   "cell_type": "code",
   "execution_count": null,
   "id": "7762a6da-9ee0-43b6-bca0-ca507f062705",
   "metadata": {},
   "outputs": [],
   "source": [
    "import cvxpy as cp\n",
    "import numpy as np\n",
    "np.set_printoptions(precision=3)\n",
    "\n",
    "#alpha = np.array([1.1, 0.7, 0.25, 0.42, 0.53, 0.31, 0.53, 0.6, 1.05, 0.27])\n",
    "alpha = np.array([0.8, 1.0, 1.2])\n",
    "\n",
    "# TODO\n",
    "\n",
    "prob.solve()\n",
    "print(\"Optimal value:\", prob.value, \"\\nx:\", x.value)"
   ]
  },
  {
   "cell_type": "markdown",
   "id": "8c777e09-b772-4dba-b362-1c32c05c406d",
   "metadata": {},
   "source": [
    "### Your Turn: The Maximum Entropy Problem\n",
    "Formulate and solve the maximum entropy problem:\n",
    "\\begin{align*}\n",
    "  \\text{maximize}\\quad & -\\sum_{i = 1}^n x_i\\log{x_i} \\\\\n",
    "  \\text{subject to}\\quad & A x = b, \\quad F x\\succcurlyeq g\n",
    "\\end{align*}\n",
    "with the following $A$, $b$, $F$, and $g$. The optimal value should be $5.480901$."
   ]
  },
  {
   "cell_type": "code",
   "execution_count": null,
   "id": "cb341f18-fbdf-4935-82cc-de9ea6866af8",
   "metadata": {},
   "outputs": [],
   "source": [
    "import cvxpy as cp\n",
    "import numpy as np\n",
    "\n",
    "# Make random input repeatable. \n",
    "np.random.seed(0) \n",
    "\n",
    "# Matrix size parameters.\n",
    "n = 20\n",
    "m = 10\n",
    "p = 5\n",
    "\n",
    "# Generate random problem data.\n",
    "tmp = np.random.rand(n)\n",
    "A = np.random.randn(m, n)\n",
    "b = A.dot(tmp)\n",
    "F = np.random.randn(p, n)\n",
    "g = F.dot(tmp) + np.random.rand(p)"
   ]
  },
  {
   "cell_type": "code",
   "execution_count": null,
   "id": "deb0c810-5f22-42a3-9f79-017dda76ae6a",
   "metadata": {},
   "outputs": [],
   "source": [
    "# TODO: Your code here\n",
    "\n",
    "print(\"\\nThe optimal value is:\", prob.value)\n",
    "print('\\nThe optimal solution is:')\n",
    "print(x.value)"
   ]
  },
  {
   "cell_type": "markdown",
   "id": "17f8a755-0858-4365-a933-488f0f4818e4",
   "metadata": {},
   "source": [
    "### Your Turn: Disciplined Convex Programming (DCP) Test\n",
    "\n",
    "[Disciplined Convex Programming: Rules, Functions, and Quizzes](https://fenchel.stanford.edu/home)\n",
    "\n",
    "Fix optimization problems that break the DCP rules by identifying the DCP error and then rewriting the problem.\n",
    "\n",
    "1. $\\ds\\min\\Big\\{\\sqrt{x^2 + 1}\\;\\Big|\\;x\\in\\mathbb{R}\\Big\\}$"
   ]
  },
  {
   "cell_type": "code",
   "execution_count": null,
   "id": "c8935837-47a7-4126-a03a-80628a76a43b",
   "metadata": {},
   "outputs": [],
   "source": [
    "import numpy as np\n",
    "import cvxpy as cp\n",
    "\n",
    "x = cp.Variable()\n",
    "prob = cp.Problem(cp.Minimize(cp.sqrt(cp.square(x) + 1)))\n",
    "print(prob.is_dcp())\n",
    "#prob.solve()"
   ]
  },
  {
   "cell_type": "markdown",
   "id": "da117375-2776-47a8-a1d2-4b3f8b4ccdea",
   "metadata": {},
   "source": [
    "2. $\\ds\\min\\Big\\{x + 2\\;\\Big|\\; 5 = \\frac{2}{x},~~  x > 0\\Big\\}$"
   ]
  },
  {
   "cell_type": "code",
   "execution_count": null,
   "id": "70e7eda3-917b-47c3-91b5-8a5025f7e83d",
   "metadata": {},
   "outputs": [],
   "source": [
    "x = cp.Variable()\n",
    "prob = cp.Problem(cp.Minimize(x + 2), [5 == 2 * cp.inv_pos(x)])\n",
    "print(prob.is_dcp())\n",
    "#prob.solve()"
   ]
  },
  {
   "cell_type": "markdown",
   "id": "c1c27d0f-36f2-4134-988c-ea28633db61e",
   "metadata": {},
   "source": [
    "3. $\\ds\\min\\Big\\{ x + 2\\;\\Big|\\;5\\leqslant\\frac{2}{x^2},\\,x \\in \\mathbb{R}\\Big\\}$"
   ]
  },
  {
   "cell_type": "code",
   "execution_count": null,
   "id": "be56c5c9-fc87-4f27-a7be-85d352c603ab",
   "metadata": {},
   "outputs": [],
   "source": [
    "x = cp.Variable()\n",
    "prob = cp.Problem(cp.Minimize(x + 2), [5 <= 2 / cp.square(x)])\n",
    "print(prob.is_dcp())\n",
    "#prob.solve()"
   ]
  },
  {
   "cell_type": "markdown",
   "id": "aa39fae1-11fa-4ac2-be66-780058cbd430",
   "metadata": {},
   "source": [
    "4. $\\ds\\min\\Big\\{ \\frac{1}{x}\\;\\Big|\\;0 \\leqslant \\frac{x^2}{y}, ~~ y \\geqslant 1, ~~ x > 0 \\Big\\}$"
   ]
  },
  {
   "cell_type": "code",
   "execution_count": null,
   "id": "c4fc19a3-8653-48d2-8e18-7cf0563f3cc4",
   "metadata": {},
   "outputs": [],
   "source": [
    "x = cp.Variable(pos=True)\n",
    "y = cp.Variable()\n",
    "prob = cp.Problem(cp.Minimize(cp.inv_pos(x)), \n",
    "                  [0 <= cp.quad_over_lin(x, y), y >= 1])\n",
    "print(prob.is_dcp())\n",
    "#prob.solve()"
   ]
  },
  {
   "cell_type": "markdown",
   "id": "c5a50fdf-0355-4e0c-bfc4-35d579eab50e",
   "metadata": {},
   "source": [
    "5. $\\ds\\min\\Big\\{ x + 2\\;\\Big|\\; \\exp(2x) + \\exp(3x) \\leqslant \\exp(5x),\\,\\, x\\in\\mathbb{R}\\Big\\}$"
   ]
  },
  {
   "cell_type": "code",
   "execution_count": null,
   "id": "8fe7628d-eae4-4b04-a4b6-38b06c105e88",
   "metadata": {},
   "outputs": [],
   "source": [
    "x = cp.Variable()\n",
    "prob = cp.Problem(cp.Minimize(x + 2), [cp.exp(2 * x) + cp.exp(3 * x) <= cp.exp(5 * x)])\n",
    "print(prob.is_dcp())\n",
    "#prob.solve()"
   ]
  },
  {
   "cell_type": "markdown",
   "id": "392abe0d-02d9-42d0-b19f-f3b701c5ccd2",
   "metadata": {},
   "source": [
    "6. $\\ds\\max\\Big\\{-\\big(\\max\\{x, 4\\} - 3\\big)^2 \\;\\Big|\\; x \\geqslant 1 \\Big\\}$"
   ]
  },
  {
   "cell_type": "code",
   "execution_count": null,
   "id": "0ee4f488-eb60-4cc4-91df-1596d04026f3",
   "metadata": {},
   "outputs": [],
   "source": [
    "x = cp.Variable()\n",
    "prob = cp.Problem(cp.Maximize(-cp.square(cp.maximum(x, 4) - 3)), [x >= 1])\n",
    "print(prob.is_dcp())\n",
    "#prob.solve()"
   ]
  },
  {
   "cell_type": "markdown",
   "id": "312f72b7-06f2-4f71-b055-77e544dcb010",
   "metadata": {},
   "source": [
    "7. (Bonus) $\\ds\\min\\bigg\\{ \\sum_{i=1}^m c_i\\,\\frac{x_i}{u_i - x_i}\\;\\bigg|\\; ~  u > x;~~ x \\in \\mathbb{R}^m \\bigg\\}$, where $c$ and $u$ are nonnegative vectors."
   ]
  },
  {
   "cell_type": "code",
   "execution_count": null,
   "id": "e4d1d805-11fb-4f4f-a410-d8eb1c4b0b0b",
   "metadata": {},
   "outputs": [],
   "source": [
    "m = 10\n",
    "np.random.seed(1)\n",
    "c = np.random.randn(m)\n",
    "c = np.abs(c)  \n",
    "u = np.random.randn(m)\n",
    "u = np.abs(u) # ensure that c and u are nonnegative\n",
    "\n",
    "x = cp.Variable(m)\n",
    "prob = cp.Problem(cp.Minimize(sum([c[i] * x[i] * cp.inv_pos(u[i] - x[i]) for i in range(m)])))\n",
    "print(prob.is_dcp())\n",
    "#prob.solve()"
   ]
  }
 ],
 "metadata": {
  "@webio": {
   "lastCommId": null,
   "lastKernelId": null
  },
  "kernelspec": {
   "display_name": "Python 3 (ipykernel)",
   "language": "python",
   "name": "python3"
  },
  "language_info": {
   "codemirror_mode": {
    "name": "ipython",
    "version": 3
   },
   "file_extension": ".py",
   "mimetype": "text/x-python",
   "name": "python",
   "nbconvert_exporter": "python",
   "pygments_lexer": "ipython3",
   "version": "3.11.5"
  }
 },
 "nbformat": 4,
 "nbformat_minor": 5
}
